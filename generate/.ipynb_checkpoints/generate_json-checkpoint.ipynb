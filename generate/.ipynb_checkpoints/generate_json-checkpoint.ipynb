{
 "cells": [
  {
   "cell_type": "code",
   "execution_count": 234,
   "metadata": {},
   "outputs": [],
   "source": [
    "import pandas as pd\n",
    "import boto3\n",
    "from datetime import datetime\n",
    "import random\n",
    "import numpy as np\n",
    "from time import sleep"
   ]
  },
  {
   "cell_type": "code",
   "execution_count": 227,
   "metadata": {},
   "outputs": [],
   "source": [
    "products = [\n",
    "    {'product_id': 1001,\n",
    "     'price': 40.99},\n",
    "    {'product_id': 1002,\n",
    "     'price': 100.0},\n",
    "    {'product_id': 1003,\n",
    "     'price': 12.50},\n",
    "    {'product_id': 1004,\n",
    "     'price': 40.99},\n",
    "    {'product_id': 1005,\n",
    "     'price': 4.20},\n",
    "    {'product_id': 1006,\n",
    "     'price': 84.39},\n",
    "    {'product_id': 1007,\n",
    "     'price': 299.99},\n",
    "    {'product_id': 1008,\n",
    "     'price': 8.0},\n",
    "    {'product_id': 1009,\n",
    "     'price': 33.0},\n",
    "    {'product_id': 1010,\n",
    "     'price': 10.0},\n",
    "]\n",
    "\n",
    "customers = np.arange(100,201,1)"
   ]
  },
  {
   "cell_type": "code",
   "execution_count": 243,
   "metadata": {},
   "outputs": [
    {
     "data": {
      "text/plain": [
       "{'ts': '2020-12-29 16:48:05',\n",
       " 'order_id': 100000056,\n",
       " 'customer_id': 181,\n",
       " 'product_id': 1003,\n",
       " 'quantity': 2}"
      ]
     },
     "execution_count": 243,
     "metadata": {},
     "output_type": "execute_result"
    }
   ],
   "source": [
    "def generate_quantity():\n",
    "    quantity = 0\n",
    "    while not quantity:\n",
    "        quantity = np.random.poisson(1)\n",
    "    return quantity\n",
    "\n",
    "def generate_data():\n",
    "    global order_id\n",
    "    dt = datetime.now().strftime(\"%Y-%m-%d %H:%M:%S\")\n",
    "    customer_id = random.choice(customers)\n",
    "    product = products[random.choice(range(len(products)))]\n",
    "    product_id = product['product_id']\n",
    "    quantity = generate_quantity()\n",
    "    order_id += 1\n",
    "\n",
    "#     price = product['price']\n",
    "#     amount = price * quantity\n",
    "\n",
    "    return {\n",
    "        'datetime': dt,\n",
    "        'order_id': order_id,\n",
    "        'customer_id': customer_id,\n",
    "        'product_id': product_id,\n",
    "        'quantity': quantity}\n",
    "\n",
    "generate_data()"
   ]
  },
  {
   "cell_type": "code",
   "execution_count": null,
   "metadata": {},
   "outputs": [],
   "source": []
  },
  {
   "cell_type": "code",
   "execution_count": 244,
   "metadata": {},
   "outputs": [
    {
     "name": "stdout",
     "output_type": "stream",
     "text": [
      "1 False\n",
      "2 False\n",
      "3 False\n",
      "4 False\n",
      "5 True\n",
      "6 False\n",
      "7 False\n",
      "8 False\n",
      "9 False\n",
      "10 True\n"
     ]
    }
   ],
   "source": [
    "order_id = 100000001\n",
    "order_limit  = 10\n",
    "i = 1\n",
    "\n",
    "data = []\n",
    "while i <= order_limit:\n",
    "    data.append(generate_data())\n",
    "    \n",
    "    sleep(0.1)\n",
    "    if i%10 == 0\n",
    "#         print('Pushing to S3')\n",
    "#     i+=1\n",
    "    print(i, i%5==0)\n",
    "    i+=1"
   ]
  }
 ],
 "metadata": {
  "kernelspec": {
   "display_name": "py36",
   "language": "python",
   "name": "py36"
  },
  "language_info": {
   "codemirror_mode": {
    "name": "ipython",
    "version": 3
   },
   "file_extension": ".py",
   "mimetype": "text/x-python",
   "name": "python",
   "nbconvert_exporter": "python",
   "pygments_lexer": "ipython3",
   "version": "3.6.12"
  }
 },
 "nbformat": 4,
 "nbformat_minor": 4
}
